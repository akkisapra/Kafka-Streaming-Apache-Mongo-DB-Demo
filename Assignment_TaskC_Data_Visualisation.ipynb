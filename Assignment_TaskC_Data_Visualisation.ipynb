{
 "cells": [
  {
   "cell_type": "markdown",
   "metadata": {},
   "source": [
    "### Task C- 3 Visualizations "
   ]
  },
  {
   "cell_type": "markdown",
   "metadata": {},
   "source": [
    "### Streaming data visualizations"
   ]
  },
  {
   "cell_type": "code",
   "execution_count": null,
   "metadata": {},
   "outputs": [],
   "source": [
    "# import statements\n",
    "from time import sleep\n",
    "from kafka import KafkaConsumer\n",
    "import datetime as dt\n",
    "import matplotlib.pyplot as plt\n",
    "import json\n",
    "# this line is needed for the inline display of graphs in Jupyter Notebook\n",
    "%matplotlib notebook\n",
    "\n",
    "topic = 'climate_data'\n",
    "\n",
    "def annotate_max(x, y, ax = None):\n",
    "    ymax = max(y)\n",
    "    xpos = y.index(ymax)\n",
    "    xmax = x[xpos]\n",
    "    text = 'Max: Time={}, Value={}'.format(xmax, ymax)\n",
    "    if not ax:\n",
    "        ax=plt.gca()\n",
    "    ax.annotate(text, xy=(xmax, ymax), xytext=(xmax, ymax+5), arrowprops=dict(facecolor='red', shrink=0.05),)\n",
    "    \n",
    "def annotate_min(x, y, ax = None):\n",
    "    ymin = min(y)\n",
    "    xpos = y.index(ymin)\n",
    "    xmin = x[xpos]\n",
    "    text = 'Min: Time={}, Value={}'.format(xmin, ymin)\n",
    "    if not ax:\n",
    "        ax=plt.gca()\n",
    "    ax.annotate(text, xy=(xmin, ymin), xytext=(xmin, ymin+5), arrowprops=dict(facecolor='orange', shrink=0.05),)\n",
    "\n",
    "def connect_kafka_consumer():\n",
    "    _consumer = None\n",
    "    try:\n",
    "         _consumer = KafkaConsumer(topic,\n",
    "                                   consumer_timeout_ms=10000, # stop iteration if no message after 10 sec\n",
    "                                   auto_offset_reset='earliest', # comment this if you don't want to consume earliest available message\n",
    "                                   bootstrap_servers=['localhost:9092'],\n",
    "                                   api_version=(0, 10))\n",
    "    except Exception as ex:\n",
    "        print('Exception while connecting Kafka')\n",
    "        print(str(ex))\n",
    "    finally:\n",
    "        return _consumer\n",
    "\n",
    "def init_plots():\n",
    "    try:\n",
    "        width = 9.5\n",
    "        height = 6\n",
    "        fig = plt.figure(figsize=(width,height)) # create new figure\n",
    "        ax = fig.add_subplot(111) # adding the subplot axes to the given grid position\n",
    "        fig.suptitle('Real-time uniform stream data visualization with interesting points') # giving figure a title\n",
    "        ax.set_xlabel('Time')\n",
    "        ax.set_ylabel('Value')\n",
    "        ax.set_ylim(0,110) \n",
    "        ax.set_yticks([0,20,40,60,80,100])\n",
    "        fig.show() # displaying the figure\n",
    "        fig.canvas.draw() # drawing on the canvas\n",
    "        return fig, ax\n",
    "    except Exception as ex:\n",
    "        print(str(ex))\n",
    "    \n",
    "def consume_messages(consumer, fig, ax):\n",
    "    try:\n",
    "        # container for x and y values\n",
    "        x, y = [], []\n",
    "        # print('Waiting for messages')\n",
    "        for message in consumer:\n",
    "            data = (message.value.decode('utf-8'))\n",
    "#             Loading the received data sent by the producer\n",
    "\n",
    "            dataset= json.loads(data)\n",
    "            if(dataset[\"sender_id\"]==1):\n",
    "                x.append(str(dataset[\"timestamp\"]))\n",
    "                y.append(int(dataset[\"air_temperature_celcius\"]))\n",
    "                # print(y)\n",
    "                # we start plotting only when we have 10 data points\n",
    "                if len(y) > 10:\n",
    "                    ax.clear()\n",
    "                    ax.plot(x, y)\n",
    "                    ax.set_xlabel('Time')\n",
    "                    ax.set_ylabel('Value')\n",
    "                    ax.set_ylim(0,110) \n",
    "                    ax.set_yticks([0,20,40,60,80,100])\n",
    "                    annotate_max(x,y)\n",
    "                    annotate_min(x,y)\n",
    "                    fig.canvas.draw()\n",
    "                    x.pop(0) # removing the item in the first position\n",
    "                    y.pop(0)\n",
    "        plt.close('all')\n",
    "    except Exception as ex:\n",
    "        print(str(ex))\n",
    "    \n",
    "if __name__ == '__main__':\n",
    "    \n",
    "    consumer = connect_kafka_consumer()\n",
    "    fig, ax = init_plots()\n",
    "    consume_messages(consumer, fig, ax)\n",
    "    \n",
    "    "
   ]
  },
  {
   "cell_type": "code",
   "execution_count": null,
   "metadata": {},
   "outputs": [],
   "source": []
  },
  {
   "cell_type": "markdown",
   "metadata": {},
   "source": [
    "## Static data visualizations"
   ]
  },
  {
   "cell_type": "markdown",
   "metadata": {},
   "source": [
    "### Records with top 10 fire incidents in a bar chart"
   ]
  },
  {
   "cell_type": "code",
   "execution_count": 12,
   "metadata": {},
   "outputs": [],
   "source": [
    "# Import contents\n",
    "import matplotlib.pyplot as plt; plt.rcdefaults()\n",
    "import numpy as np\n",
    "import matplotlib.pyplot as plt\n",
    "import pymongo\n",
    "from pymongo import MongoClient\n",
    "\n",
    "\n",
    "client = MongoClient () # method 1: connect on the default host and port\n",
    "\n",
    "# client.drop_database('fit5148_assignment_db')\n",
    "db=client['fit5148_assignment_db']\n"
   ]
  },
  {
   "cell_type": "code",
   "execution_count": 13,
   "metadata": {
    "scrolled": true
   },
   "outputs": [
    {
     "data": {
      "text/plain": [
       "<BarContainer object of 10 artists>"
      ]
     },
     "execution_count": 13,
     "metadata": {},
     "output_type": "execute_result"
    },
    {
     "data": {
      "image/png": "[encoded data removed]",
      "text/plain": [
       "<Figure size 1000x300 with 1 Axes>"
      ]
     },
     "metadata": {},
     "output_type": "display_data"
    }
   ],
   "source": [
    "# import libraries\n",
    "import matplotlib.pyplot as plt; \n",
    "import numpy as np\n",
    "import matplotlib.pyplot as plt\n",
    "import pymongo\n",
    "from pymongo import MongoClient\n",
    "from dateutil import parser\n",
    "\n",
    "client = MongoClient () # method 1: connect on the default host and port\n",
    "\n",
    "db=client['fit5148_assignment_db']\n",
    "\n",
    "datearrr=[]\n",
    "countarr=[]\n",
    "result=db['hotspot_historic'].aggregate([{\"$group\":{\"_id\":\"$datetime\", \"count\": {\"$sum\":1}}},{\"$sort\":{\"count\":-1}},{\"$limit\": 10}])\n",
    "# Getting data and appending to arrayys for axes\n",
    "for document in result: \n",
    "    dt = parser.parse(document['_id'])  \n",
    "    datearrr.append(str(dt.time()))\n",
    "    countarr.append(document['count'])\n",
    "\n",
    "#     Plotting bar chart\n",
    "plt.figure(figsize=(10,3))\n",
    "plt.title(\"Top 10 Fire-prone time accross the region\")\n",
    "plt.bar(datearrr, countarr, align='center', alpha=0.5)\n",
    "\n",
    "# \n",
    "\n",
    "# https://pythonspot.com/matplotlib-bar-chart/"
   ]
  },
  {
   "cell_type": "markdown",
   "metadata": {},
   "source": [
    "### Plot data with fire visualizations"
   ]
  },
  {
   "cell_type": "code",
   "execution_count": 14,
   "metadata": {},
   "outputs": [
    {
     "name": "stdout",
     "output_type": "stream",
     "text": [
      "2668\n"
     ]
    },
    {
     "data": {
      "text/plain": [
       "True"
      ]
     },
     "execution_count": 14,
     "metadata": {},
     "output_type": "execute_result"
    }
   ],
   "source": [
    "import gmplot\n",
    "from pymongo import MongoClient\n",
    "import webbrowser\n",
    "\n",
    "# gmplot contains a simple wrapper around \n",
    "# Google’s geocoding service enabling map initilization to the location of your choice.\n",
    "unoccupiedList=[]\n",
    "client = MongoClient()\n",
    "db=client['fit5148_assignment_db']\n",
    "res=db['hotspot_historic'].aggregate([\n",
    "    {\"$lookup\":\n",
    "     {\"from\": \"climate_historic\",\n",
    "      \"localField\": \"date\",\n",
    "      \"foreignField\" : \"date\" ,\n",
    "      \"as\":\"climate_historic\"\n",
    "     }\n",
    "    },\n",
    "\n",
    "   {\"$project\" : {\"datetime\":1,\"latitude\":1,\"longitude\":1,\n",
    "                  \"surface_temperature_celcius\":1, \"confidence\":1,\"climate_historic.air_temperature_celcius\":1,\"climate_historic.relative_humidity\":1\n",
    "                                             }}\n",
    "])\n",
    "\n",
    "\n",
    "for row in res:\n",
    "    obj=(row['climate_historic'])[0]\n",
    "    unoccupiedList.append((float(row['latitude']), float(row['longitude'])\n",
    "                        ,float(row['surface_temperature_celcius'])\n",
    "                        ,float(row['confidence']),float((obj['relative_humidity']))\n",
    "                        ,float((obj['air_temperature_celcius']))))\n",
    "\n",
    "\n",
    "\n",
    "print(len(unoccupiedList))\n",
    "# The step below is required by the gmap scatter function to prepare data in correct format\n",
    "unoccupied_lats, unoccupied_lons,hstc,conf,relative_humidity,airtemp = zip(*unoccupiedList) \n",
    "\n",
    "gmap = gmplot.GoogleMapPlotter(-37.812015244225677, 144.951471202974, 15) # latitude and longitude of melbourne city\n",
    "for i in range(0,len(unoccupiedList)):\n",
    "    gmap.marker(unoccupied_lats[i], unoccupied_lons[i],title=\"surface temp:\"+str(hstc[i])+\n",
    "                \" confidence:\"+str(conf[i])+\" air temp:\"+str(airtemp[i])+\" relative humidity:\"+str(relative_humidity[i]))\n",
    "\n",
    "# print(len(unoccupied_lats),len(unoccupied_lons),len(airtemp),len(relative_humidity,hstc)\n",
    "\n",
    "# Plotting the points on the map\n",
    "# gmap.scatter(unoccupied_lats, unoccupied_lons, '#FF4500', size=2, marker=False)\n",
    "\n",
    "\n",
    "# Drawing the map\n",
    "gmap.draw(\"availableParkings.html\")\n",
    "webbrowser.open_new(\"availableParkings.html\")"
   ]
  },
  {
   "cell_type": "code",
   "execution_count": null,
   "metadata": {},
   "outputs": [],
   "source": []
  },
  {
   "cell_type": "code",
   "execution_count": null,
   "metadata": {},
   "outputs": [],
   "source": []
  }
 ],
 "metadata": {
  "kernelspec": {
   "display_name": "Python 3",
   "language": "python",
   "name": "python3"
  },
  "language_info": {
   "codemirror_mode": {
    "name": "ipython",
    "version": 3
   },
   "file_extension": ".py",
   "mimetype": "text/x-python",
   "name": "python",
   "nbconvert_exporter": "python",
   "pygments_lexer": "ipython3",
   "version": "3.5.2"
  }
 },
 "nbformat": 4,
 "nbformat_minor": 2
}
